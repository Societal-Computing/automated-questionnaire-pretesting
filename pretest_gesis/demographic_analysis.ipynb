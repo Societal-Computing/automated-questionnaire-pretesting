{
 "cells": [
  {
   "cell_type": "code",
   "execution_count": 3,
   "id": "5555f5ea-ca12-4132-b218-3e0dda681896",
   "metadata": {},
   "outputs": [
    {
     "name": "stdout",
     "output_type": "stream",
     "text": [
      "/home/idisc01/automated-questionnaire-pretesting/pretest_gesis\n"
     ]
    }
   ],
   "source": [
    "%cd .."
   ]
  },
  {
   "cell_type": "code",
   "execution_count": 4,
   "id": "cff19b8f-5c76-4b1c-9a6a-a2116f0e3804",
   "metadata": {},
   "outputs": [
    {
     "name": "stdout",
     "output_type": "stream",
     "text": [
      "/home/idisc01/automated-questionnaire-pretesting\n"
     ]
    }
   ],
   "source": [
    "%cd .."
   ]
  },
  {
   "cell_type": "code",
   "execution_count": 17,
   "id": "ea7553a6-7183-47de-b67f-ed2f3b58821e",
   "metadata": {},
   "outputs": [],
   "source": [
    "import glob\n",
    "import pandas as pd\n",
    "import matplotlib.pyplot as plt\n",
    "\n",
    "from parsers.persona import parse_persona_text"
   ]
  },
  {
   "cell_type": "code",
   "execution_count": null,
   "id": "d7c2d24c-61ed-48fd-88bd-4e8b15d75144",
   "metadata": {},
   "outputs": [],
   "source": [
    "DATA_DIR = \"pretest_gesis/experiments/\"\n",
    "\n",
    "PERSONAS_FILE = DATA_DIR + \"survey_personas.txt\"\n",
    "REVIEWS_FILES = glob.glob(DATA_DIR + \"reviews/*.txt\")"
   ]
  },
  {
   "cell_type": "markdown",
   "id": "be4af621-862d-448a-9a42-6b54d394152d",
   "metadata": {},
   "source": [
    "### Persona (Demographics) Analysis"
   ]
  },
  {
   "cell_type": "code",
   "execution_count": 7,
   "id": "0438b299-15c7-4ca0-a394-fe81fad09199",
   "metadata": {},
   "outputs": [
    {
     "data": {
      "text/html": [
       "<div>\n",
       "<style scoped>\n",
       "    .dataframe tbody tr th:only-of-type {\n",
       "        vertical-align: middle;\n",
       "    }\n",
       "\n",
       "    .dataframe tbody tr th {\n",
       "        vertical-align: top;\n",
       "    }\n",
       "\n",
       "    .dataframe thead th {\n",
       "        text-align: right;\n",
       "    }\n",
       "</style>\n",
       "<table border=\"1\" class=\"dataframe\">\n",
       "  <thead>\n",
       "    <tr style=\"text-align: right;\">\n",
       "      <th></th>\n",
       "      <th>Name</th>\n",
       "      <th>Age</th>\n",
       "      <th>Gender</th>\n",
       "      <th>Race</th>\n",
       "      <th>Location</th>\n",
       "      <th>Occupation</th>\n",
       "      <th>Education</th>\n",
       "      <th>Preferences</th>\n",
       "    </tr>\n",
       "  </thead>\n",
       "  <tbody>\n",
       "    <tr>\n",
       "      <th>0</th>\n",
       "      <td>Emily Clarke</td>\n",
       "      <td>22</td>\n",
       "      <td>Female</td>\n",
       "      <td>White</td>\n",
       "      <td>London, England</td>\n",
       "      <td>Marketing Assistant</td>\n",
       "      <td>Bachelors in Marketing</td>\n",
       "      <td>Utilizes CRM software for client management</td>\n",
       "    </tr>\n",
       "    <tr>\n",
       "      <th>1</th>\n",
       "      <td>Marcus Brown</td>\n",
       "      <td>28</td>\n",
       "      <td>Male</td>\n",
       "      <td>Black</td>\n",
       "      <td>Birmingham, England</td>\n",
       "      <td>Self-employed Graphic Designer</td>\n",
       "      <td>Diploma in Graphic Design</td>\n",
       "      <td>Relies on Adobe Creative Suite for projects</td>\n",
       "    </tr>\n",
       "    <tr>\n",
       "      <th>2</th>\n",
       "      <td>Laura Thompson</td>\n",
       "      <td>34</td>\n",
       "      <td>Female</td>\n",
       "      <td>Asian</td>\n",
       "      <td>Manchester, England</td>\n",
       "      <td>HR Specialist</td>\n",
       "      <td>Masters in Human Resources</td>\n",
       "      <td>Uses HRM systems daily</td>\n",
       "    </tr>\n",
       "    <tr>\n",
       "      <th>3</th>\n",
       "      <td>David Wilson</td>\n",
       "      <td>45</td>\n",
       "      <td>Male</td>\n",
       "      <td>White</td>\n",
       "      <td>Leeds, England</td>\n",
       "      <td>IT Manager</td>\n",
       "      <td>Masters in Computer Science</td>\n",
       "      <td>Engaged in regular cybersecurity tool usage</td>\n",
       "    </tr>\n",
       "    <tr>\n",
       "      <th>4</th>\n",
       "      <td>Julie Harris</td>\n",
       "      <td>60</td>\n",
       "      <td>Female</td>\n",
       "      <td>Black</td>\n",
       "      <td>Liverpool, England</td>\n",
       "      <td>Self-employed Nutritionist</td>\n",
       "      <td>Bachelors in Nutrition Science</td>\n",
       "      <td>Utilizes video conferencing tools for consulta...</td>\n",
       "    </tr>\n",
       "  </tbody>\n",
       "</table>\n",
       "</div>"
      ],
      "text/plain": [
       "             Name  Age  Gender   Race             Location  \\\n",
       "0    Emily Clarke   22  Female  White      London, England   \n",
       "1    Marcus Brown   28    Male  Black  Birmingham, England   \n",
       "2  Laura Thompson   34  Female  Asian  Manchester, England   \n",
       "3    David Wilson   45    Male  White       Leeds, England   \n",
       "4    Julie Harris   60  Female  Black   Liverpool, England   \n",
       "\n",
       "                       Occupation                       Education  \\\n",
       "0             Marketing Assistant          Bachelors in Marketing   \n",
       "1  Self-employed Graphic Designer       Diploma in Graphic Design   \n",
       "2                   HR Specialist      Masters in Human Resources   \n",
       "3                      IT Manager     Masters in Computer Science   \n",
       "4      Self-employed Nutritionist  Bachelors in Nutrition Science   \n",
       "\n",
       "                                         Preferences  \n",
       "0        Utilizes CRM software for client management  \n",
       "1        Relies on Adobe Creative Suite for projects  \n",
       "2                             Uses HRM systems daily  \n",
       "3        Engaged in regular cybersecurity tool usage  \n",
       "4  Utilizes video conferencing tools for consulta...  "
      ]
     },
     "execution_count": 7,
     "metadata": {},
     "output_type": "execute_result"
    }
   ],
   "source": [
    "personas = parse_persona_text(PERSONAS_FILE)\n",
    "\n",
    "# convert to dataframe\n",
    "df = pd.DataFrame(personas)\n",
    "df.Age = df.Age.astype(int)\n",
    "df.head()"
   ]
  },
  {
   "cell_type": "code",
   "execution_count": 8,
   "id": "2331bdb1-6fcf-4cfb-b5f0-a553d3b2f569",
   "metadata": {},
   "outputs": [],
   "source": [
    "age_groups = ['18-30', '31-50', '51-65']\n",
    "education = ['Lower education', 'Higher education']"
   ]
  },
  {
   "cell_type": "code",
   "execution_count": 9,
   "id": "0e9dcbce-7dd8-4573-8129-0ab7775636f8",
   "metadata": {},
   "outputs": [],
   "source": [
    "df[\"age_group\"] = pd.cut(df.Age, bins=[18, 30, 50, 65], labels=age_groups, right=True)"
   ]
  },
  {
   "cell_type": "code",
   "execution_count": 10,
   "id": "2bcf41ad-7e0f-4a1d-9693-311a00e72ec6",
   "metadata": {},
   "outputs": [
    {
     "data": {
      "text/plain": [
       "31-50    33\n",
       "18-30    25\n",
       "51-65    15\n",
       "Name: age_group, dtype: int64"
      ]
     },
     "execution_count": 10,
     "metadata": {},
     "output_type": "execute_result"
    }
   ],
   "source": [
    "df.age_group.value_counts()"
   ]
  },
  {
   "cell_type": "code",
   "execution_count": 11,
   "id": "9d39f3a0-3b4b-4f7b-8198-d3f9b5265d62",
   "metadata": {},
   "outputs": [],
   "source": [
    "def categorize_education(t):\n",
    "    t = t.lower()\n",
    "    # Assuming DVM, Associates, Bachelors and above as higher education\n",
    "    if ('bachelors' in t) or ('masters' in t) or ('ph.d.' in t) or (t == 'dvm') or ('associates' in t):\n",
    "        return 'Higher education'\n",
    "    else:\n",
    "    # Assuming certifications, diploma, apprenticeships as lower education\n",
    "        return 'Lower education'\n",
    "\n",
    "df['education_level'] = df.Education.apply(categorize_education)"
   ]
  },
  {
   "cell_type": "code",
   "execution_count": 12,
   "id": "d4b25768-6e24-4995-a83d-d870327fe781",
   "metadata": {},
   "outputs": [
    {
     "data": {
      "text/plain": [
       "Higher education    42\n",
       "Lower education     33\n",
       "Name: education_level, dtype: int64"
      ]
     },
     "execution_count": 12,
     "metadata": {},
     "output_type": "execute_result"
    }
   ],
   "source": [
    "df.education_level.value_counts()"
   ]
  },
  {
   "cell_type": "code",
   "execution_count": 13,
   "id": "8b2fe3c0-a265-4afc-b6e3-db6e7d231e79",
   "metadata": {},
   "outputs": [
    {
     "data": {
      "text/html": [
       "<div>\n",
       "<style scoped>\n",
       "    .dataframe tbody tr th:only-of-type {\n",
       "        vertical-align: middle;\n",
       "    }\n",
       "\n",
       "    .dataframe tbody tr th {\n",
       "        vertical-align: top;\n",
       "    }\n",
       "\n",
       "    .dataframe thead th {\n",
       "        text-align: right;\n",
       "    }\n",
       "</style>\n",
       "<table border=\"1\" class=\"dataframe\">\n",
       "  <thead>\n",
       "    <tr style=\"text-align: right;\">\n",
       "      <th></th>\n",
       "      <th>Gender</th>\n",
       "      <th>Female</th>\n",
       "      <th>Male</th>\n",
       "    </tr>\n",
       "    <tr>\n",
       "      <th>age_group</th>\n",
       "      <th>education_level</th>\n",
       "      <th></th>\n",
       "      <th></th>\n",
       "    </tr>\n",
       "  </thead>\n",
       "  <tbody>\n",
       "    <tr>\n",
       "      <th rowspan=\"2\" valign=\"top\">18-30</th>\n",
       "      <th>Higher education</th>\n",
       "      <td>6</td>\n",
       "      <td>9</td>\n",
       "    </tr>\n",
       "    <tr>\n",
       "      <th>Lower education</th>\n",
       "      <td>5</td>\n",
       "      <td>5</td>\n",
       "    </tr>\n",
       "    <tr>\n",
       "      <th rowspan=\"2\" valign=\"top\">31-50</th>\n",
       "      <th>Higher education</th>\n",
       "      <td>9</td>\n",
       "      <td>10</td>\n",
       "    </tr>\n",
       "    <tr>\n",
       "      <th>Lower education</th>\n",
       "      <td>7</td>\n",
       "      <td>7</td>\n",
       "    </tr>\n",
       "    <tr>\n",
       "      <th rowspan=\"2\" valign=\"top\">51-65</th>\n",
       "      <th>Higher education</th>\n",
       "      <td>7</td>\n",
       "      <td>1</td>\n",
       "    </tr>\n",
       "    <tr>\n",
       "      <th>Lower education</th>\n",
       "      <td>2</td>\n",
       "      <td>5</td>\n",
       "    </tr>\n",
       "  </tbody>\n",
       "</table>\n",
       "</div>"
      ],
      "text/plain": [
       "Gender                      Female  Male\n",
       "age_group education_level               \n",
       "18-30     Higher education       6     9\n",
       "          Lower education        5     5\n",
       "31-50     Higher education       9    10\n",
       "          Lower education        7     7\n",
       "51-65     Higher education       7     1\n",
       "          Lower education        2     5"
      ]
     },
     "execution_count": 13,
     "metadata": {},
     "output_type": "execute_result"
    }
   ],
   "source": [
    "df.groupby(['age_group', 'education_level', 'Gender']).Name.count().unstack()"
   ]
  },
  {
   "cell_type": "code",
   "execution_count": 14,
   "id": "c7fbc154-6de1-42f9-8f7e-2594d42a3fb0",
   "metadata": {},
   "outputs": [],
   "source": [
    "# Count percentage of self-employed\n",
    "df[\"self_employed\"] = df.Occupation.apply(lambda x: 'self-employed' in x.lower())"
   ]
  },
  {
   "cell_type": "code",
   "execution_count": 15,
   "id": "bd2e90df-3793-4c59-a157-531fbf23bf39",
   "metadata": {},
   "outputs": [
    {
     "data": {
      "text/plain": [
       "False    0.826667\n",
       "True     0.173333\n",
       "Name: self_employed, dtype: float64"
      ]
     },
     "execution_count": 15,
     "metadata": {},
     "output_type": "execute_result"
    }
   ],
   "source": [
    "# original study expected at least 20% self-employed\n",
    "df.self_employed.value_counts(normalize=True)"
   ]
  },
  {
   "cell_type": "markdown",
   "id": "6dfc6de8-065d-486e-b436-bc0d11a2e526",
   "metadata": {},
   "source": [
    "### Check reviews"
   ]
  },
  {
   "cell_type": "code",
   "execution_count": null,
   "id": "8e285304-647f-49f4-ac85-c55b85c73352",
   "metadata": {},
   "outputs": [],
   "source": [
    "for i, f in enumerate(REVIEWS_FILES, start=1):\n",
    "    print(f\"REVIEW {i}\")\n",
    "    print(\"=\"*50)\n",
    "    print(open(f).read())\n",
    "    print(\"=\"*50)"
   ]
  },
  {
   "cell_type": "code",
   "execution_count": null,
   "id": "54988e90-cba4-47dd-b9b5-b3d7d4865f54",
   "metadata": {},
   "outputs": [],
   "source": []
  }
 ],
 "metadata": {
  "kernelspec": {
   "display_name": "Python 3 (ipykernel)",
   "language": "python",
   "name": "python3"
  },
  "language_info": {
   "codemirror_mode": {
    "name": "ipython",
    "version": 3
   },
   "file_extension": ".py",
   "mimetype": "text/x-python",
   "name": "python",
   "nbconvert_exporter": "python",
   "pygments_lexer": "ipython3",
   "version": "3.10.13"
  }
 },
 "nbformat": 4,
 "nbformat_minor": 5
}
